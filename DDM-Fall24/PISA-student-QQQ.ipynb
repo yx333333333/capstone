{
  "cells": [
    {
      "cell_type": "markdown",
      "id": "eab44f50-b352-46bc-82e2-2d0add4f6d68",
      "metadata": {
        "id": "eab44f50-b352-46bc-82e2-2d0add4f6d68"
      },
      "source": [
        "Visit the website: https://www.oecd.org/en/data/datasets/pisa-2022-database.html\n",
        "1. Download Dataset\n",
        "2. Download the Codebook\n",
        "\n",
        "Work on the assigned group work only."
      ]
    },
    {
      "cell_type": "code",
      "source": [],
      "metadata": {
        "id": "XoNzYnW3Qlkw"
      },
      "id": "XoNzYnW3Qlkw",
      "execution_count": null,
      "outputs": []
    },
    {
      "cell_type": "markdown",
      "id": "d895e451-9416-4b79-a696-9391fabb9667",
      "metadata": {
        "id": "d895e451-9416-4b79-a696-9391fabb9667"
      },
      "source": [
        "Group 1.\n",
        "\n",
        "Read CY08MSP_STU_Q (you can either download SAS or SPSS file)AV\n",
        "Print the variable names of the student questionnaire data\n",
        "Push code to GitHub"
      ]
    },
    {
      "cell_type": "code",
      "execution_count": 1,
      "id": "e6e09f1b-dab8-45ed-bf13-92e5241b0701",
      "metadata": {
        "scrolled": true,
        "id": "e6e09f1b-dab8-45ed-bf13-92e5241b0701"
      },
      "outputs": [],
      "source": [
        "#!pip install pyreadstat"
      ]
    },
    {
      "cell_type": "code",
      "execution_count": 2,
      "id": "997a490d-547c-4558-9f73-713f13af892a",
      "metadata": {
        "colab": {
          "base_uri": "https://localhost:8080/",
          "height": 327
        },
        "id": "997a490d-547c-4558-9f73-713f13af892a",
        "outputId": "72148193-8c56-444e-f610-ffbaf7894171"
      },
      "outputs": [
        {
          "output_type": "error",
          "ename": "ModuleNotFoundError",
          "evalue": "No module named 'pyreadstat'",
          "traceback": [
            "\u001b[0;31m---------------------------------------------------------------------------\u001b[0m",
            "\u001b[0;31mModuleNotFoundError\u001b[0m                       Traceback (most recent call last)",
            "\u001b[0;32m/tmp/ipython-input-2808197841.py\u001b[0m in \u001b[0;36m<cell line: 0>\u001b[0;34m()\u001b[0m\n\u001b[0;32m----> 1\u001b[0;31m \u001b[0;32mimport\u001b[0m \u001b[0mpyreadstat\u001b[0m\u001b[0;34m\u001b[0m\u001b[0;34m\u001b[0m\u001b[0m\n\u001b[0m\u001b[1;32m      2\u001b[0m \u001b[0;34m\u001b[0m\u001b[0m\n",
            "\u001b[0;31mModuleNotFoundError\u001b[0m: No module named 'pyreadstat'",
            "",
            "\u001b[0;31m---------------------------------------------------------------------------\u001b[0;32m\nNOTE: If your import is failing due to a missing package, you can\nmanually install dependencies using either !pip or !apt.\n\nTo view examples of installing some common dependencies, click the\n\"Open Examples\" button below.\n\u001b[0;31m---------------------------------------------------------------------------\u001b[0m\n"
          ],
          "errorDetails": {
            "actions": [
              {
                "action": "open_url",
                "actionText": "Open Examples",
                "url": "/notebooks/snippets/importing_libraries.ipynb"
              }
            ]
          }
        }
      ],
      "source": [
        "import pyreadstat\n",
        "\n"
      ]
    },
    {
      "cell_type": "code",
      "execution_count": null,
      "id": "1376c516-6280-43fc-98bf-2d85828af51a",
      "metadata": {
        "id": "1376c516-6280-43fc-98bf-2d85828af51a"
      },
      "outputs": [],
      "source": []
    },
    {
      "cell_type": "code",
      "execution_count": null,
      "id": "7bfbab10-b374-4efa-a85b-5a455e89a804",
      "metadata": {
        "id": "7bfbab10-b374-4efa-a85b-5a455e89a804"
      },
      "outputs": [],
      "source": []
    },
    {
      "cell_type": "code",
      "execution_count": null,
      "id": "9fbbaca1-b53f-4b12-896c-ee8f83f0880d",
      "metadata": {
        "id": "9fbbaca1-b53f-4b12-896c-ee8f83f0880d"
      },
      "outputs": [],
      "source": []
    },
    {
      "cell_type": "code",
      "execution_count": null,
      "id": "02be3c10-d5b9-43db-b9d2-11633e1768a0",
      "metadata": {
        "id": "02be3c10-d5b9-43db-b9d2-11633e1768a0"
      },
      "outputs": [],
      "source": []
    },
    {
      "cell_type": "markdown",
      "id": "fc7f7fe4-9e42-4618-b73d-879414d1d014",
      "metadata": {
        "id": "fc7f7fe4-9e42-4618-b73d-879414d1d014"
      },
      "source": [
        "Group 2.\n",
        "1. In the U.S., how many female and male students answered the student questionnaire?\n"
      ]
    },
    {
      "cell_type": "markdown",
      "source": [
        "Yiwei: Uploaded Python codes that can (perhaps) answer this question."
      ],
      "metadata": {
        "id": "lgJ1KniJRXZf"
      },
      "id": "lgJ1KniJRXZf"
    },
    {
      "cell_type": "markdown",
      "source": [],
      "metadata": {
        "id": "_OXdAIFKRXWX"
      },
      "id": "_OXdAIFKRXWX"
    },
    {
      "cell_type": "code",
      "source": [],
      "metadata": {
        "id": "waaJKoFRRW9W"
      },
      "id": "waaJKoFRRW9W",
      "execution_count": null,
      "outputs": []
    },
    {
      "cell_type": "code",
      "execution_count": 3,
      "id": "62dbaec4-fbf7-4c21-9ec7-8a630cd6c0db",
      "metadata": {
        "colab": {
          "base_uri": "https://localhost:8080/",
          "height": 207
        },
        "id": "62dbaec4-fbf7-4c21-9ec7-8a630cd6c0db",
        "outputId": "28de2391-152e-47b6-df14-06dfdd907220"
      },
      "outputs": [
        {
          "output_type": "error",
          "ename": "NameError",
          "evalue": "name 'df_students' is not defined",
          "traceback": [
            "\u001b[0;31m---------------------------------------------------------------------------\u001b[0m",
            "\u001b[0;31mNameError\u001b[0m                                 Traceback (most recent call last)",
            "\u001b[0;32m/tmp/ipython-input-2381751487.py\u001b[0m in \u001b[0;36m<cell line: 0>\u001b[0;34m()\u001b[0m\n\u001b[1;32m      2\u001b[0m \u001b[0;34m\u001b[0m\u001b[0m\n\u001b[1;32m      3\u001b[0m \u001b[0;31m# Filter for US students\u001b[0m\u001b[0;34m\u001b[0m\u001b[0;34m\u001b[0m\u001b[0m\n\u001b[0;32m----> 4\u001b[0;31m \u001b[0mdf_us\u001b[0m \u001b[0;34m=\u001b[0m \u001b[0mdf_students\u001b[0m\u001b[0;34m[\u001b[0m\u001b[0mdf_students\u001b[0m\u001b[0;34m[\u001b[0m\u001b[0;34m'COUNTRY'\u001b[0m\u001b[0;34m]\u001b[0m \u001b[0;34m==\u001b[0m \u001b[0;34m'USA'\u001b[0m\u001b[0;34m]\u001b[0m\u001b[0;34m\u001b[0m\u001b[0;34m\u001b[0m\u001b[0m\n\u001b[0m\u001b[1;32m      5\u001b[0m \u001b[0;34m\u001b[0m\u001b[0m\n\u001b[1;32m      6\u001b[0m \u001b[0;31m# Count the number of female and male students\u001b[0m\u001b[0;34m\u001b[0m\u001b[0;34m\u001b[0m\u001b[0m\n",
            "\u001b[0;31mNameError\u001b[0m: name 'df_students' is not defined"
          ]
        }
      ],
      "source": [
        "# Assumes df_students DataFrame is already loaded with the student questionnaire data\n",
        "\n",
        "# Filter for US students\n",
        "df_us = df_students[df_students['COUNTRY'] == 'USA']\n",
        "\n",
        "# Count the number of female and male students\n",
        "gender_counts = df_us['GENDER'].value_counts()\n",
        "\n",
        "# Display the counts\n",
        "print(\"Number of female and male students in the US:\")\n",
        "print(gender_counts)"
      ]
    },
    {
      "cell_type": "code",
      "execution_count": null,
      "id": "397ed629-348c-4b56-bb4d-5d477f73db50",
      "metadata": {
        "id": "397ed629-348c-4b56-bb4d-5d477f73db50"
      },
      "outputs": [],
      "source": []
    },
    {
      "cell_type": "code",
      "execution_count": null,
      "id": "1554433a-bdc4-4975-b851-dec4c679444d",
      "metadata": {
        "id": "1554433a-bdc4-4975-b851-dec4c679444d"
      },
      "outputs": [],
      "source": [
        "Group 3.\n",
        "1. Show the distribution of the highest education level of parents."
      ]
    },
    {
      "cell_type": "code",
      "execution_count": null,
      "id": "e4264259-182c-4113-9a6e-09b2838bd561",
      "metadata": {
        "id": "e4264259-182c-4113-9a6e-09b2838bd561"
      },
      "outputs": [],
      "source": []
    },
    {
      "cell_type": "code",
      "execution_count": null,
      "id": "842fcaee-a4ca-411e-8998-d2c5ec7d2045",
      "metadata": {
        "id": "842fcaee-a4ca-411e-8998-d2c5ec7d2045"
      },
      "outputs": [],
      "source": []
    },
    {
      "cell_type": "code",
      "execution_count": null,
      "id": "6d659a5d-3f7f-4a01-abfd-8fa09c972b48",
      "metadata": {
        "id": "6d659a5d-3f7f-4a01-abfd-8fa09c972b48"
      },
      "outputs": [],
      "source": []
    },
    {
      "cell_type": "code",
      "execution_count": null,
      "id": "f7b15072-77ac-4879-9cf3-6b91665ffe5f",
      "metadata": {
        "id": "f7b15072-77ac-4879-9cf3-6b91665ffe5f"
      },
      "outputs": [],
      "source": [
        "Group 4.\n",
        "1. What is the distribution of the students' index of economic, social and cultural status?"
      ]
    },
    {
      "cell_type": "code",
      "execution_count": null,
      "id": "f27efb2e-b84c-4fa4-b602-59878c4a58b8",
      "metadata": {
        "id": "f27efb2e-b84c-4fa4-b602-59878c4a58b8"
      },
      "outputs": [],
      "source": []
    },
    {
      "cell_type": "code",
      "execution_count": null,
      "id": "c443670a-f25c-43cd-ab7f-26bbb6338757",
      "metadata": {
        "id": "c443670a-f25c-43cd-ab7f-26bbb6338757"
      },
      "outputs": [],
      "source": []
    }
  ],
  "metadata": {
    "kernelspec": {
      "display_name": "Python 3 (ipykernel)",
      "language": "python",
      "name": "python3"
    },
    "language_info": {
      "codemirror_mode": {
        "name": "ipython",
        "version": 3
      },
      "file_extension": ".py",
      "mimetype": "text/x-python",
      "name": "python",
      "nbconvert_exporter": "python",
      "pygments_lexer": "ipython3",
      "version": "3.11.7"
    },
    "colab": {
      "provenance": []
    }
  },
  "nbformat": 4,
  "nbformat_minor": 5
}